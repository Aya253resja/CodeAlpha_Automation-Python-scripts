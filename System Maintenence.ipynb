{
 "cells": [
  {
   "cell_type": "code",
   "execution_count": null,
   "metadata": {},
   "outputs": [],
   "source": [
    "#script3\n",
    "#python script to as function show CPU,RAM,DISK "
   ]
  },
  {
   "cell_type": "code",
   "execution_count": 2,
   "metadata": {},
   "outputs": [
    {
     "name": "stdout",
     "output_type": "stream",
     "text": [
      "Starting system maintenance...\n",
      "Failed to delete C:\\Users\\DELL-MCC\\AppData\\Local\\Temp\\002fd224-c3dd-4969-84c2-fe13c08e7b8f.tmp: [WinError 32] The process cannot access the file because it is being used by another process: 'C:\\\\Users\\\\DELL-MCC\\\\AppData\\\\Local\\\\Temp\\\\002fd224-c3dd-4969-84c2-fe13c08e7b8f.tmp'\n",
      "Failed to delete C:\\Users\\DELL-MCC\\AppData\\Local\\Temp\\0749c7fe-52a0-4b9a-a9da-ff0d519b52ee.tmp: [WinError 32] The process cannot access the file because it is being used by another process: 'C:\\\\Users\\\\DELL-MCC\\\\AppData\\\\Local\\\\Temp\\\\0749c7fe-52a0-4b9a-a9da-ff0d519b52ee.tmp'\n",
      "Failed to delete C:\\Users\\DELL-MCC\\AppData\\Local\\Temp\\260424c3-b910-44ba-b842-c8d455379ca1.tmp: [WinError 32] The process cannot access the file because it is being used by another process: 'C:\\\\Users\\\\DELL-MCC\\\\AppData\\\\Local\\\\Temp\\\\260424c3-b910-44ba-b842-c8d455379ca1.tmp'\n",
      "Failed to delete C:\\Users\\DELL-MCC\\AppData\\Local\\Temp\\34681253-5e77-4011-8522-2ca3a746086e.tmp: [WinError 32] The process cannot access the file because it is being used by another process: 'C:\\\\Users\\\\DELL-MCC\\\\AppData\\\\Local\\\\Temp\\\\34681253-5e77-4011-8522-2ca3a746086e.tmp'\n",
      "Failed to delete C:\\Users\\DELL-MCC\\AppData\\Local\\Temp\\3c27a8ec-ca13-4bf3-909b-6f7387af76f2.tmp: [WinError 32] The process cannot access the file because it is being used by another process: 'C:\\\\Users\\\\DELL-MCC\\\\AppData\\\\Local\\\\Temp\\\\3c27a8ec-ca13-4bf3-909b-6f7387af76f2.tmp'\n",
      "Failed to delete C:\\Users\\DELL-MCC\\AppData\\Local\\Temp\\86e94f46-4a4c-47f3-a227-e057980da797.tmp: [WinError 32] The process cannot access the file because it is being used by another process: 'C:\\\\Users\\\\DELL-MCC\\\\AppData\\\\Local\\\\Temp\\\\86e94f46-4a4c-47f3-a227-e057980da797.tmp'\n",
      "Failed to delete C:\\Users\\DELL-MCC\\AppData\\Local\\Temp\\8ae9831b-080d-4f15-9204-4831380efd0f.tmp: [WinError 32] The process cannot access the file because it is being used by another process: 'C:\\\\Users\\\\DELL-MCC\\\\AppData\\\\Local\\\\Temp\\\\8ae9831b-080d-4f15-9204-4831380efd0f.tmp'\n",
      "Failed to delete C:\\Users\\DELL-MCC\\AppData\\Local\\Temp\\915de1e4-7061-49b6-b3b3-bc23975b6e1e.tmp: [WinError 32] The process cannot access the file because it is being used by another process: 'C:\\\\Users\\\\DELL-MCC\\\\AppData\\\\Local\\\\Temp\\\\915de1e4-7061-49b6-b3b3-bc23975b6e1e.tmp'\n",
      "Failed to delete C:\\Users\\DELL-MCC\\AppData\\Local\\Temp\\acrobat_sbx: [WinError 32] The process cannot access the file because it is being used by another process: 'C:\\\\Users\\\\DELL-MCC\\\\AppData\\\\Local\\\\Temp\\\\acrobat_sbx\\\\NGL\\\\NGLClient_AcrobatReader124.5.20399.6.log'\n",
      "Failed to delete C:\\Users\\DELL-MCC\\AppData\\Local\\Temp\\acrocef_low: [WinError 32] The process cannot access the file because it is being used by another process: 'C:\\\\Users\\\\DELL-MCC\\\\AppData\\\\Local\\\\Temp\\\\acrocef_low\\\\3235d8ab-dfa8-493b-9192-c11916a58fc0.tmp'\n",
      "Failed to delete C:\\Users\\DELL-MCC\\AppData\\Local\\Temp\\dd22155c-94f2-4114-81e0-92e517bb3a39.tmp: [WinError 32] The process cannot access the file because it is being used by another process: 'C:\\\\Users\\\\DELL-MCC\\\\AppData\\\\Local\\\\Temp\\\\dd22155c-94f2-4114-81e0-92e517bb3a39.tmp'\n",
      "Failed to delete C:\\Users\\DELL-MCC\\AppData\\Local\\Temp\\Diagnostics: [WinError 32] The process cannot access the file because it is being used by another process: 'C:\\\\Users\\\\DELL-MCC\\\\AppData\\\\Local\\\\Temp\\\\Diagnostics\\\\EXCEL\\\\App1739562514982567500_DA490385-636E-4391-A90B-B0CA732D619A.log'\n",
      "Failed to delete C:\\Users\\DELL-MCC\\AppData\\Local\\Temp\\e7ece5b6-79c3-402e-a1c3-6b27a4cb9fb5.tmp: [WinError 32] The process cannot access the file because it is being used by another process: 'C:\\\\Users\\\\DELL-MCC\\\\AppData\\\\Local\\\\Temp\\\\e7ece5b6-79c3-402e-a1c3-6b27a4cb9fb5.tmp'\n",
      "Failed to delete C:\\Users\\DELL-MCC\\AppData\\Local\\Temp\\WinSAT: [WinError 5] Access is denied: 'C:\\\\Users\\\\DELL-MCC\\\\AppData\\\\Local\\\\Temp\\\\WinSAT'\n",
      "Memory optimized.\n",
      "System maintenance completed!\n"
     ]
    }
   ],
   "source": [
    "import os\n",
    "import psutil\n",
    "import datetime\n",
    "import tempfile\n",
    "import shutil\n",
    "\n",
    "def clear_temp_files():\n",
    "    temp_dir = tempfile.gettempdir()\n",
    "    for filename in os.listdir(temp_dir):\n",
    "        file_path = os.path.join(temp_dir, filename)\n",
    "        try:\n",
    "            if os.path.isfile(file_path) or os.path.islink(file_path):\n",
    "                os.unlink(file_path)\n",
    "            elif os.path.isdir(file_path):\n",
    "                shutil.rmtree(file_path)\n",
    "            print(f\"Deleted: {file_path}\")\n",
    "        except Exception as e:\n",
    "            print(f\"Failed to delete {file_path}: {e}\")\n",
    "\n",
    "def system_maintenance():\n",
    "    uptime = datetime.datetime.now() - datetime.datetime.fromtimestamp(psutil.boot_time())\n",
    "    cpu_usage = psutil.cpu_percent(interval=1)\n",
    "    ram = psutil.virtual_memory()\n",
    "    disk = shutil.disk_usage(\"/\")\n",
    "\n",
    "    print(f\"Uptime: {uptime}\")\n",
    "    print(f\"CPU: {cpu_usage}%\")\n",
    "    print(f\"RAM: {ram.percent}% ({ram.used // (1024**3)}GB / {ram.total // (1024**3)}GB)\")\n",
    "    print(f\"Disk: {disk.free // (1024**3)}GB free / {disk.total // (1024**3)}GB\")\n",
    "\n",
    "\n",
    "def optimize_memory():\n",
    "    if os.name == 'nt':\n",
    "        os.system('wmic process where \"WorkingSetSize>1000000\" call Terminate')\n",
    "    else:\n",
    "        os.system('sync; echo 3 > /proc/sys/vm/drop_caches')\n",
    "    print(\"Memory optimized.\")\n",
    "\n",
    "def main():\n",
    "    print(\"Starting system maintenance...\")\n",
    "    clear_temp_files()\n",
    "    optimize_memory()\n",
    "    print(\"System maintenance completed!\")\n",
    "\n",
    "if __name__ == \"__main__\":\n",
    "    main()    \n",
    "\n"
   ]
  }
 ],
 "metadata": {
  "kernelspec": {
   "display_name": "Python 3",
   "language": "python",
   "name": "python3"
  },
  "language_info": {
   "codemirror_mode": {
    "name": "ipython",
    "version": 3
   },
   "file_extension": ".py",
   "mimetype": "text/x-python",
   "name": "python",
   "nbconvert_exporter": "python",
   "pygments_lexer": "ipython3",
   "version": "3.12.8"
  }
 },
 "nbformat": 4,
 "nbformat_minor": 2
}
