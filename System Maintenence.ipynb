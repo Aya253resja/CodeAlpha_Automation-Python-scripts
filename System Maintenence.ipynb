{
 "cells": [
  {
   "cell_type": "code",
   "execution_count": null,
   "metadata": {},
   "outputs": [],
   "source": [
    "#script3\n",
    "#python script to as function show CPU,RAM,DISK "
   ]
  },
  {
   "cell_type": "code",
   "execution_count": null,
   "metadata": {},
   "outputs": [],
   "source": [
    "import psutil\n",
    "import datetime\n",
    "import shutil\n",
    "\n",
    "def system_maintenance():\n",
    "    uptime = datetime.datetime.now() - datetime.datetime.fromtimestamp(psutil.boot_time())\n",
    "    cpu_usage = psutil.cpu_percent(interval=1)\n",
    "    ram = psutil.virtual_memory()\n",
    "    disk = shutil.disk_usage(\"/\")\n",
    "\n",
    "    print(f\"Uptime: {uptime}\")\n",
    "    print(f\"CPU: {cpu_usage}%\")\n",
    "    print(f\"RAM: {ram.percent}% ({ram.used // (1024**3)}GB / {ram.total // (1024**3)}GB)\")\n",
    "    print(f\"Disk: {disk.free // (1024**3)}GB free / {disk.total // (1024**3)}GB\")\n",
    "\n",
    "system_maintenance()\n"
   ]
  }
 ],
 "metadata": {
  "language_info": {
   "name": "python"
  }
 },
 "nbformat": 4,
 "nbformat_minor": 2
}
