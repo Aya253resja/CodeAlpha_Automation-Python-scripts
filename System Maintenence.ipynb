{
 "cells": [
  {
   "cell_type": "code",
   "execution_count": null,
   "metadata": {},
   "outputs": [],
   "source": [
    "#script3\n",
    "#python script to as function show CPU,RAM,DISK "
   ]
  },
  {
   "cell_type": "code",
   "execution_count": 1,
   "metadata": {},
   "outputs": [
    {
     "name": "stdout",
     "output_type": "stream",
     "text": [
      "Starting system maintenance...\n",
      "Failed to delete C:\\Users\\DELL-MCC\\AppData\\Local\\Temp\\04ea845b-8758-4a22-8c37-7bf99efd9a61.tmp: [WinError 32] The process cannot access the file because it is being used by another process: 'C:\\\\Users\\\\DELL-MCC\\\\AppData\\\\Local\\\\Temp\\\\04ea845b-8758-4a22-8c37-7bf99efd9a61.tmp'\n",
      "Failed to delete C:\\Users\\DELL-MCC\\AppData\\Local\\Temp\\1ad26e14-5cf5-4f8e-a6d4-42613492fff2.tmp: [WinError 32] The process cannot access the file because it is being used by another process: 'C:\\\\Users\\\\DELL-MCC\\\\AppData\\\\Local\\\\Temp\\\\1ad26e14-5cf5-4f8e-a6d4-42613492fff2.tmp'\n",
      "Failed to delete C:\\Users\\DELL-MCC\\AppData\\Local\\Temp\\5e2273d2-9e18-4ef2-86ae-06aaed9ddc04.tmp: [WinError 32] The process cannot access the file because it is being used by another process: 'C:\\\\Users\\\\DELL-MCC\\\\AppData\\\\Local\\\\Temp\\\\5e2273d2-9e18-4ef2-86ae-06aaed9ddc04.tmp'\n",
      "Failed to delete C:\\Users\\DELL-MCC\\AppData\\Local\\Temp\\66bd655a-63c8-47d1-ba25-6fd26212d89c.tmp: [WinError 32] The process cannot access the file because it is being used by another process: 'C:\\\\Users\\\\DELL-MCC\\\\AppData\\\\Local\\\\Temp\\\\66bd655a-63c8-47d1-ba25-6fd26212d89c.tmp'\n",
      "Failed to delete C:\\Users\\DELL-MCC\\AppData\\Local\\Temp\\68272a26-035d-4527-9251-c19795b26124.tmp: [WinError 32] The process cannot access the file because it is being used by another process: 'C:\\\\Users\\\\DELL-MCC\\\\AppData\\\\Local\\\\Temp\\\\68272a26-035d-4527-9251-c19795b26124.tmp'\n",
      "Failed to delete C:\\Users\\DELL-MCC\\AppData\\Local\\Temp\\92f5348e-58c3-43be-99f9-d42573474657.tmp: [WinError 32] The process cannot access the file because it is being used by another process: 'C:\\\\Users\\\\DELL-MCC\\\\AppData\\\\Local\\\\Temp\\\\92f5348e-58c3-43be-99f9-d42573474657.tmp'\n",
      "Failed to delete C:\\Users\\DELL-MCC\\AppData\\Local\\Temp\\a7ae5b11-ad96-4799-970c-1ef578a7d9c6.tmp: [WinError 32] The process cannot access the file because it is being used by another process: 'C:\\\\Users\\\\DELL-MCC\\\\AppData\\\\Local\\\\Temp\\\\a7ae5b11-ad96-4799-970c-1ef578a7d9c6.tmp'\n",
      "Deleted: C:\\Users\\DELL-MCC\\AppData\\Local\\Temp\\acrobat_sbx\n",
      "Deleted: C:\\Users\\DELL-MCC\\AppData\\Local\\Temp\\acrocef_low\n",
      "Failed to delete C:\\Users\\DELL-MCC\\AppData\\Local\\Temp\\ad7dafbd-1980-46c0-acca-2b36bb4f532b.tmp: [WinError 32] The process cannot access the file because it is being used by another process: 'C:\\\\Users\\\\DELL-MCC\\\\AppData\\\\Local\\\\Temp\\\\ad7dafbd-1980-46c0-acca-2b36bb4f532b.tmp'\n",
      "Failed to delete C:\\Users\\DELL-MCC\\AppData\\Local\\Temp\\d5380b4e-e6e6-4a73-9aab-5a5414dec5ec.tmp: [WinError 32] The process cannot access the file because it is being used by another process: 'C:\\\\Users\\\\DELL-MCC\\\\AppData\\\\Local\\\\Temp\\\\d5380b4e-e6e6-4a73-9aab-5a5414dec5ec.tmp'\n",
      "Failed to delete C:\\Users\\DELL-MCC\\AppData\\Local\\Temp\\dc0c4021-1e21-42ee-bcac-a4642cc7f9af.tmp: [WinError 32] The process cannot access the file because it is being used by another process: 'C:\\\\Users\\\\DELL-MCC\\\\AppData\\\\Local\\\\Temp\\\\dc0c4021-1e21-42ee-bcac-a4642cc7f9af.tmp'\n",
      "Deleted: C:\\Users\\DELL-MCC\\AppData\\Local\\Temp\\Diagnostics\n",
      "Failed to delete C:\\Users\\DELL-MCC\\AppData\\Local\\Temp\\e7d951b7-f2db-49c8-bcc5-c93ae2f232eb.tmp: [WinError 32] The process cannot access the file because it is being used by another process: 'C:\\\\Users\\\\DELL-MCC\\\\AppData\\\\Local\\\\Temp\\\\e7d951b7-f2db-49c8-bcc5-c93ae2f232eb.tmp'\n",
      "Failed to delete C:\\Users\\DELL-MCC\\AppData\\Local\\Temp\\ee10eb75-8f8c-420d-b24a-1adeaee981ad.tmp: [WinError 32] The process cannot access the file because it is being used by another process: 'C:\\\\Users\\\\DELL-MCC\\\\AppData\\\\Local\\\\Temp\\\\ee10eb75-8f8c-420d-b24a-1adeaee981ad.tmp'\n",
      "Failed to delete C:\\Users\\DELL-MCC\\AppData\\Local\\Temp\\ee6a87f1-b9b6-4cf7-98b4-9f9ddb46513e.tmp: [WinError 32] The process cannot access the file because it is being used by another process: 'C:\\\\Users\\\\DELL-MCC\\\\AppData\\\\Local\\\\Temp\\\\ee6a87f1-b9b6-4cf7-98b4-9f9ddb46513e.tmp'\n",
      "Deleted: C:\\Users\\DELL-MCC\\AppData\\Local\\Temp\\pyright-1716-1C7lipdDI36k\n",
      "Deleted: C:\\Users\\DELL-MCC\\AppData\\Local\\Temp\\python-languageserver-cancellation\n",
      "Failed to delete C:\\Users\\DELL-MCC\\AppData\\Local\\Temp\\WinSAT: [WinError 5] Access is denied: 'C:\\\\Users\\\\DELL-MCC\\\\AppData\\\\Local\\\\Temp\\\\WinSAT'\n",
      "Memory optimized.\n",
      "Uptime: 2 days, 3:08:06.998737\n",
      "CPU: 100.0%\n",
      "RAM: 76.6% (6GB / 7GB)\n",
      "Disk: 154GB free / 237GB\n",
      "System maintenance completed!\n"
     ]
    }
   ],
   "source": [
    "import os\n",
    "import psutil\n",
    "import datetime\n",
    "import tempfile\n",
    "import shutil\n",
    "\n",
    "def clear_temp_files():\n",
    "    temp_dir = tempfile.gettempdir()\n",
    "    for filename in os.listdir(temp_dir):\n",
    "        file_path = os.path.join(temp_dir, filename)\n",
    "        try:\n",
    "            if os.path.isfile(file_path) or os.path.islink(file_path):\n",
    "                os.unlink(file_path)\n",
    "            elif os.path.isdir(file_path):\n",
    "                shutil.rmtree(file_path)\n",
    "            print(f\"Deleted: {file_path}\")\n",
    "        except Exception as e:\n",
    "            print(f\"Failed to delete {file_path}: {e}\")\n",
    "\n",
    "def system_maintenance():\n",
    "    uptime = datetime.datetime.now() - datetime.datetime.fromtimestamp(psutil.boot_time())\n",
    "    cpu_usage = psutil.cpu_percent(interval=1)\n",
    "    ram = psutil.virtual_memory()\n",
    "    disk = shutil.disk_usage(\"/\")\n",
    "\n",
    "    print(f\"Uptime: {uptime}\")\n",
    "    print(f\"CPU: {cpu_usage}%\")\n",
    "    print(f\"RAM: {ram.percent}% ({ram.used // (1024**3)}GB / {ram.total // (1024**3)}GB)\")\n",
    "    print(f\"Disk: {disk.free // (1024**3)}GB free / {disk.total // (1024**3)}GB\")\n",
    "\n",
    "\n",
    "def optimize_memory():\n",
    "    if os.name == 'nt':\n",
    "        os.system('wmic process where \"WorkingSetSize>1000000\" call Terminate')\n",
    "    else:\n",
    "        os.system('sync; echo 3 > /proc/sys/vm/drop_caches')\n",
    "    print(\"Memory optimized.\")\n",
    "\n",
    "def main():\n",
    "    print(\"Starting system maintenance...\")\n",
    "    clear_temp_files()\n",
    "    optimize_memory()\n",
    "    system_maintenance()\n",
    "    print(\"System maintenance completed!\")\n",
    "\n",
    "if __name__ == \"__main__\":\n",
    "    main()    \n",
    "\n"
   ]
  }
 ],
 "metadata": {
  "kernelspec": {
   "display_name": "Python 3",
   "language": "python",
   "name": "python3"
  },
  "language_info": {
   "codemirror_mode": {
    "name": "ipython",
    "version": 3
   },
   "file_extension": ".py",
   "mimetype": "text/x-python",
   "name": "python",
   "nbconvert_exporter": "python",
   "pygments_lexer": "ipython3",
   "version": "3.12.8"
  }
 },
 "nbformat": 4,
 "nbformat_minor": 2
}
