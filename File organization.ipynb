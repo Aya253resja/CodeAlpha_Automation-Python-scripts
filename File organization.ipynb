{
 "cells": [
  {
   "cell_type": "code",
   "execution_count": null,
   "metadata": {},
   "outputs": [],
   "source": [
    "#Script1\n",
    "#python script to organize the folder to Documents , images and other files "
   ]
  },
  {
   "cell_type": "code",
   "execution_count": null,
   "metadata": {},
   "outputs": [],
   "source": [
    "import os\n",
    "import shutil\n",
    "\n",
    "source_folder = r\"E:\\PPTs for Pharmacy Assistants 2024\"\n",
    "\n",
    "file_types = {\n",
    "    \"Images\": [\".png\", \".gif\", \".jpg\"],\n",
    "    \"Documents\": [\".pdf\", \".txt\", \".pptx\"]\n",
    "}\n",
    "\n",
    "for folder in file_types.keys():\n",
    "    folder_path = os.path.join(source_folder, folder)\n",
    "    os.makedirs(folder_path, exist_ok=True)\n",
    "\n",
    "\n",
    "other_folder = os.path.join(source_folder, \"Other\")\n",
    "os.makedirs(other_folder, exist_ok=True)\n",
    "\n",
    "\n",
    "for file in os.listdir(source_folder):\n",
    "    file_path = os.path.join(source_folder, file)\n",
    "\n",
    "    \n",
    "    if os.path.isfile(file_path):\n",
    "        file_extension = os.path.splitext(file)[1].lower()\n",
    "        moved = False  \n",
    "\n",
    "        for folder, extensions in file_types.items():\n",
    "            if file_extension in extensions:\n",
    "                shutil.move(file_path, os.path.join(source_folder, folder, file))\n",
    "                print(f\"Moved {file} to {folder}\")\n",
    "                moved = True\n",
    "                break\n",
    "\n",
    "    \n",
    "        if not moved:\n",
    "            shutil.move(file_path, os.path.join(other_folder, file))\n",
    "            print(f\"Moved {file} to Other\")\n",
    "\n",
    "print(\"Folder organization completed successfully!\")"
   ]
  }
 ],
 "metadata": {
  "language_info": {
   "name": "python"
  }
 },
 "nbformat": 4,
 "nbformat_minor": 2
}
